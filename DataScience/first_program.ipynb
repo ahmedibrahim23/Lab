{
 "cells": [
  {
   "cell_type": "code",
   "execution_count": 1,
   "id": "7cecf3b0-08fe-4f01-acc5-f1dc36527962",
   "metadata": {},
   "outputs": [
    {
     "name": "stdout",
     "output_type": "stream",
     "text": [
      "10\n"
     ]
    }
   ],
   "source": [
    "a=10\n",
    "print(a)"
   ]
  },
  {
   "cell_type": "code",
   "execution_count": 2,
   "id": "1a723b5e-8706-4ecf-a446-12d17edd87d0",
   "metadata": {},
   "outputs": [],
   "source": [
    "# chapter 2 numpy"
   ]
  },
  {
   "cell_type": "code",
   "execution_count": 28,
   "id": "d8ecb04c-38c8-49d5-880f-820aa8dd48bd",
   "metadata": {},
   "outputs": [
    {
     "name": "stdout",
     "output_type": "stream",
     "text": [
      "0\n",
      "1\n",
      "2\n",
      "3\n",
      "4\n",
      "5\n",
      "6\n",
      "7\n"
     ]
    }
   ],
   "source": [
    "for i in range(8):\n",
    "    print(i);"
   ]
  },
  {
   "cell_type": "code",
   "execution_count": 20,
   "id": "bbf04293-2ef9-4a3a-be90-057c45b8fcac",
   "metadata": {},
   "outputs": [
    {
     "name": "stdin",
     "output_type": "stream",
     "text": [
      "enter your name ahmed\n"
     ]
    },
    {
     "name": "stdout",
     "output_type": "stream",
     "text": [
      "hello, mr.ahmed\n"
     ]
    }
   ],
   "source": [
    "name=input(\"enter your name\")\n",
    "print(\"hello, mr.\"+name)"
   ]
  },
  {
   "cell_type": "code",
   "execution_count": null,
   "id": "9d3d893b-f365-4db6-bf94-e36378ce6d30",
   "metadata": {},
   "outputs": [],
   "source": [
    "numbers=0;\n",
    "while numbers < 50:\n",
    "    if numbers%2==1)\n",
    "        print(numbers)\n",
    "    numbers++"
   ]
  },
  {
   "cell_type": "code",
   "execution_count": null,
   "id": "8dff8938-5fca-48c6-90a4-51e32ba62d0b",
   "metadata": {},
   "outputs": [],
   "source": []
  },
  {
   "cell_type": "code",
   "execution_count": null,
   "id": "866c9ff2-7a2f-406c-a0ab-7a0224f7cd90",
   "metadata": {},
   "outputs": [],
   "source": []
  },
  {
   "cell_type": "code",
   "execution_count": null,
   "id": "3d0255b6-0720-4879-9f84-3fe6d18cdbf1",
   "metadata": {},
   "outputs": [],
   "source": []
  },
  {
   "cell_type": "code",
   "execution_count": null,
   "id": "d7006d39-c028-486d-8ebf-49774849baaf",
   "metadata": {},
   "outputs": [],
   "source": []
  },
  {
   "cell_type": "code",
   "execution_count": null,
   "id": "2f2e4871-a2bf-4927-bd0b-6484c2abff4b",
   "metadata": {},
   "outputs": [],
   "source": []
  },
  {
   "cell_type": "code",
   "execution_count": null,
   "id": "cd4f729b-4e13-48ca-9ca7-690ec168742f",
   "metadata": {},
   "outputs": [],
   "source": []
  }
 ],
 "metadata": {
  "kernelspec": {
   "display_name": "Python 3 (ipykernel)",
   "language": "python",
   "name": "python3"
  },
  "language_info": {
   "codemirror_mode": {
    "name": "ipython",
    "version": 3
   },
   "file_extension": ".py",
   "mimetype": "text/x-python",
   "name": "python",
   "nbconvert_exporter": "python",
   "pygments_lexer": "ipython3",
   "version": "3.12.4"
  }
 },
 "nbformat": 4,
 "nbformat_minor": 5
}
