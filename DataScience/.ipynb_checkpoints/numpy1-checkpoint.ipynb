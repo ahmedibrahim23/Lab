{
 "cells": [
  {
   "cell_type": "code",
   "execution_count": 3,
   "id": "1d3c5f5f-e263-4543-9b52-d9dd74b214ba",
   "metadata": {},
   "outputs": [
    {
     "data": {
      "text/plain": [
       "'\\nIn Jupyter Notebooks, markdown cells are used to format text, include\\nheadings, images, and more.\\n'"
      ]
     },
     "execution_count": 3,
     "metadata": {},
     "output_type": "execute_result"
    }
   ],
   "source": [
    "#  Task1 \n",
    "# This is a Python comment. It is used to explain the code and is ignored during execution.\n",
    "\"\"\"\n",
    "In Jupyter Notebooks, markdown cells are used to format text, include\n",
    "headings, images, and more.\n",
    "\"\"\""
   ]
  },
  {
   "cell_type": "markdown",
   "id": "832eb69d-d0d6-462f-8ade-144a270d3108",
   "metadata": {},
   "source": [
    "# This is a markdown cell in Jupyter"
   ]
  },
  {
   "cell_type": "markdown",
   "id": "0b91ba54-6abc-454a-b072-ae1b529ec9fc",
   "metadata": {},
   "source": [
    "# Task 2: Create Array 1D"
   ]
  },
  {
   "cell_type": "code",
   "execution_count": 8,
   "id": "240582a3-dd7d-4f01-8e44-3238f7ca0ffc",
   "metadata": {},
   "outputs": [
    {
     "name": "stdout",
     "output_type": "stream",
     "text": [
      "Requirement already satisfied: numpy in /home/ahmed/anaconda3/lib/python3.12/site-packages (1.26.4)\n",
      "Note: you may need to restart the kernel to use updated packages.\n"
     ]
    }
   ],
   "source": [
    "pip install numpy"
   ]
  },
  {
   "cell_type": "code",
   "execution_count": 13,
   "id": "19261ae0-9c21-41e7-bc8b-63de35377130",
   "metadata": {},
   "outputs": [
    {
     "name": "stdout",
     "output_type": "stream",
     "text": [
      "[ 1  2  3  4  5  6  7  8  9 10]\n"
     ]
    }
   ],
   "source": [
    "#Create a 1D NumPy array with values ranging from 1 to 10.\n",
    "import numpy as np\n",
    "arr_1d=np.arange(1,11)\n",
    "print(arr_1d)"
   ]
  },
  {
   "cell_type": "code",
   "execution_count": 21,
   "id": "6273b2b7-323a-40e0-8549-726f70f01851",
   "metadata": {},
   "outputs": [
    {
     "data": {
      "text/plain": [
       "array([[0., 0., 0., 0.],\n",
       "       [0., 0., 0., 0.],\n",
       "       [0., 0., 0., 0.]])"
      ]
     },
     "execution_count": 21,
     "metadata": {},
     "output_type": "execute_result"
    }
   ],
   "source": [
    "#Create a 2D array of zeros with the shape (3, 4).\n",
    "arr_2d=np.zeros((3,4));\n",
    "arr_2d"
   ]
  },
  {
   "cell_type": "code",
   "execution_count": 23,
   "id": "c6700ccc-482d-468e-be20-d70b337fc9cf",
   "metadata": {},
   "outputs": [
    {
     "data": {
      "text/plain": [
       "array([[1., 1., 1.],\n",
       "       [1., 1., 1.],\n",
       "       [1., 1., 1.]])"
      ]
     },
     "execution_count": 23,
     "metadata": {},
     "output_type": "execute_result"
    }
   ],
   "source": [
    "#create 3x3 array of ones\n",
    "arr_ones=np.ones((3,3))\n",
    "arr_ones"
   ]
  },
  {
   "cell_type": "markdown",
   "id": "0d66aec2-7e82-4b73-b792-e8d3b6db5e90",
   "metadata": {},
   "source": [
    "# Task 3: Use of `arange()` and `reshape()`"
   ]
  },
  {
   "cell_type": "code",
   "execution_count": 32,
   "id": "edd1857e-009f-4486-a1d3-1a19e272af57",
   "metadata": {},
   "outputs": [
    {
     "data": {
      "text/plain": [
       "array([ 0,  1,  2,  3,  4,  5,  6,  7,  8,  9, 10, 11, 12, 13, 14, 15, 16,\n",
       "       17, 18, 19])"
      ]
     },
     "execution_count": 32,
     "metadata": {},
     "output_type": "execute_result"
    }
   ],
   "source": [
    "arr_arange=np.arange((20))\n",
    "arr_arange"
   ]
  },
  {
   "cell_type": "code",
   "execution_count": 34,
   "id": "40852b1e-fab9-40a4-8302-77e10fe87489",
   "metadata": {},
   "outputs": [
    {
     "data": {
      "text/plain": [
       "array([[ 0,  1,  2,  3,  4],\n",
       "       [ 5,  6,  7,  8,  9],\n",
       "       [10, 11, 12, 13, 14],\n",
       "       [15, 16, 17, 18, 19]])"
      ]
     },
     "execution_count": 34,
     "metadata": {},
     "output_type": "execute_result"
    }
   ],
   "source": [
    "arr_reshape=arr_arange.reshape(4,5)\n",
    "arr_reshape"
   ]
  },
  {
   "cell_type": "markdown",
   "id": "46d61920-5a23-44cc-ab89-2d2c2338e754",
   "metadata": {},
   "source": [
    "# Task 4: Array Shape"
   ]
  },
  {
   "cell_type": "code",
   "execution_count": 39,
   "id": "622f4d65-14fc-4931-80af-0416c97eaa91",
   "metadata": {},
   "outputs": [
    {
     "name": "stdout",
     "output_type": "stream",
     "text": [
      "Shape before reshaping: (20,)\n",
      "Shape after reshaping: (4, 5)\n"
     ]
    }
   ],
   "source": [
    "# Print the shape of both arrays created in Task 3 (before and after reshaping).\n",
    "print('Shape before reshaping:', arr_arange.shape)\n",
    "print('Shape after reshaping:', arr_reshape.shape)"
   ]
  },
  {
   "cell_type": "code",
   "execution_count": 41,
   "id": "d8ef9342-56a4-4991-9b34-3a3aa93a7ee9",
   "metadata": {},
   "outputs": [
    {
     "name": "stdout",
     "output_type": "stream",
     "text": [
      "Number of elements before reshaping: 20\n",
      "Number of elements after reshaping: 20\n"
     ]
    }
   ],
   "source": [
    "## Verify the number of elements before and after reshaping are consistent.\n",
    "print('Number of elements before reshaping:', arr_arange.size)\n",
    "print('Number of elements after reshaping:', arr_reshape.size)"
   ]
  },
  {
   "cell_type": "markdown",
   "id": "c641f916-a7d6-40e6-b4ff-d3cd6624b29a",
   "metadata": {},
   "source": [
    "# Task 5: indexing"
   ]
  },
  {
   "cell_type": "code",
   "execution_count": 37,
   "id": "7f3404ab-73db-4602-a1ef-06182fe79db5",
   "metadata": {},
   "outputs": [
    {
     "data": {
      "text/plain": [
       "array([44, 46, 34, 13, 74, 56, 25, 91, 75, 69])"
      ]
     },
     "execution_count": 37,
     "metadata": {},
     "output_type": "execute_result"
    }
   ],
   "source": [
    "arr_random=np.random.randint(1,101,10)\n",
    "arr_random"
   ]
  },
  {
   "cell_type": "markdown",
   "id": "cfd9dfd3-8985-4c4b-a4cd-672384680166",
   "metadata": {},
   "source": [
    "### Extracting"
   ]
  },
  {
   "cell_type": "code",
   "execution_count": 49,
   "id": "3f9c8cb6-c335-444d-8943-2678640551c5",
   "metadata": {},
   "outputs": [
    {
     "name": "stdout",
     "output_type": "stream",
     "text": [
      "the the first element is  44\n",
      "the the last element is  69\n",
      "Elements from index 2 to 5: [34 13 74 56]\n",
      "Every second element: [44 34 74 25 75]\n"
     ]
    }
   ],
   "source": [
    "# first element\n",
    "print(\"the the first element is \", arr_random[0])\n",
    "#the last element\n",
    "print(\"the the last element is \", arr_random[-1])\n",
    "#Elements from index 2 to 5:\n",
    "print(\"Elements from index 2 to 5:\", arr_random[2:6])\n",
    "# Every second element of the array.\n",
    "print('Every second element:', arr_random[::2])"
   ]
  },
  {
   "cell_type": "markdown",
   "id": "af2b2fae-2aa2-441b-88ac-9c004df135cd",
   "metadata": {},
   "source": [
    "# Task 6: Advanced Indexing"
   ]
  },
  {
   "cell_type": "markdown",
   "id": "95f0eda9-5ddd-46a6-aade-1f149de4510b",
   "metadata": {},
   "source": [
    "### Create a 2D NumPy array with random integers between 1 and 10 with a shape of (4,4)."
   ]
  },
  {
   "cell_type": "markdown",
   "id": "b565d241-cde9-4b53-aecf-3d3e1ea0b912",
   "metadata": {},
   "source": [
    "arr_2d=np.random.randint(1,11,(4,4))\n",
    "arr_2d"
   ]
  },
  {
   "cell_type": "markdown",
   "id": "7a9a34bd-e09c-4379-8ea0-91d052390bd6",
   "metadata": {},
   "source": [
    "### Extracting"
   ]
  },
  {
   "cell_type": "markdown",
   "id": "9783ef4e-6c5c-4a50-817a-ac71a7296a63",
   "metadata": {},
   "source": [
    "#The element at row 1, column 2\n",
    "print('Element at row 1, column 2:', arr_2d[1, 2])\n",
    "#All elements from the 2nd row\n",
    "print('All elements from the 2nd row:', arr_2d[1, :])\n",
    "#All elements from the 3rd column.\n",
    "print('All elements from the 3rd column:', arr_2d[:, 2])"
   ]
  },
  {
   "cell_type": "markdown",
   "id": "afc8b06e-eee5-4e14-b659-4948edf89a13",
   "metadata": {},
   "source": [
    "# Task 7: Reshaping & Indexing Combination"
   ]
  },
  {
   "cell_type": "markdown",
   "id": "d7ccc52d-63a2-4c92-b8c7-fc4fe23c7152",
   "metadata": {},
   "source": [
    "### Use the `arange()` function to create an array of 25 elements and reshape it into a 5x5\n",
    "array."
   ]
  },
  {
   "cell_type": "code",
   "execution_count": 61,
   "id": "887d011c-5f42-4ef9-aee2-a7ce2ce5e835",
   "metadata": {},
   "outputs": [
    {
     "data": {
      "text/plain": [
       "array([[ 0,  1,  2,  3,  4],\n",
       "       [ 5,  6,  7,  8,  9],\n",
       "       [10, 11, 12, 13, 14],\n",
       "       [15, 16, 17, 18, 19],\n",
       "       [20, 21, 22, 23, 24]])"
      ]
     },
     "execution_count": 61,
     "metadata": {},
     "output_type": "execute_result"
    }
   ],
   "source": [
    "arr_large=np.arange(25).reshape(5,5)\n",
    "arr_large"
   ]
  },
  {
   "cell_type": "markdown",
   "id": "e36ff5b6-db52-4263-b31b-2be347347f81",
   "metadata": {},
   "source": [
    "### Exctracting"
   ]
  },
  {
   "cell_type": "code",
   "execution_count": 65,
   "id": "87d696ff-fe33-438e-9d22-8b088e473d2a",
   "metadata": {},
   "outputs": [
    {
     "name": "stdout",
     "output_type": "stream",
     "text": [
      "Element at row 3, column 4: 19\n",
      "Last row: [20 21 22 23 24]\n",
      "Subarray (first two rows and columns):\n",
      " [[0 1]\n",
      " [5 6]]\n"
     ]
    }
   ],
   "source": [
    "#The element at row 3, column 4\n",
    "print('Element at row 3, column 4:', arr_large[3, 4])\n",
    "#The last row\n",
    "print('Last row:', arr_large[-1])\n",
    "#- A subarray containing the first two rows and columns.\n",
    "print('Subarray (first two rows and columns):\\n', arr_large[:2, :2])"
   ]
  },
  {
   "cell_type": "code",
   "execution_count": 3,
   "id": "70998d2f-32c1-454e-973c-80c6bf39cf08",
   "metadata": {},
   "outputs": [
    {
     "data": {
      "text/plain": [
       "array([[ 1,  2,  3,  4,  5],\n",
       "       [ 6,  7,  8,  9, 10],\n",
       "       [11, 12, 13, 14, 15],\n",
       "       [16, 17, 18, 19, 20]])"
      ]
     },
     "execution_count": 3,
     "metadata": {},
     "output_type": "execute_result"
    }
   ],
   "source": [
    "import numpy as np\n",
    "List =np.arange(1,21).reshape(4,5)\n",
    "List"
   ]
  },
  {
   "cell_type": "code",
   "execution_count": 5,
   "id": "5e523de5-ccfb-4cc8-b855-25c9dee8b2dd",
   "metadata": {},
   "outputs": [
    {
     "data": {
      "text/plain": [
       "10.5"
      ]
     },
     "execution_count": 5,
     "metadata": {},
     "output_type": "execute_result"
    }
   ],
   "source": [
    "Mean=np.mean(List)\n",
    "Mean"
   ]
  },
  {
   "cell_type": "code",
   "execution_count": 9,
   "id": "be93974c-63a8-4d41-9a0e-f2e01750e047",
   "metadata": {},
   "outputs": [
    {
     "data": {
      "text/plain": [
       "210"
      ]
     },
     "execution_count": 9,
     "metadata": {},
     "output_type": "execute_result"
    }
   ],
   "source": [
    "Sum=np.sum(List)\n",
    "Sum"
   ]
  },
  {
   "cell_type": "code",
   "execution_count": 11,
   "id": "42bbe607-b6c1-4ba8-a81a-85ee32b186cc",
   "metadata": {},
   "outputs": [
    {
     "data": {
      "text/plain": [
       "10.5"
      ]
     },
     "execution_count": 11,
     "metadata": {},
     "output_type": "execute_result"
    }
   ],
   "source": [
    "Median=np.median(List)\n",
    "Median"
   ]
  },
  {
   "cell_type": "code",
   "execution_count": 13,
   "id": "ab5f1b06-0288-423e-84c2-0eb93aa86968",
   "metadata": {},
   "outputs": [
    {
     "ename": "AttributeError",
     "evalue": "module 'numpy' has no attribute 'mode'",
     "output_type": "error",
     "traceback": [
      "\u001b[0;31m---------------------------------------------------------------------------\u001b[0m",
      "\u001b[0;31mAttributeError\u001b[0m                            Traceback (most recent call last)",
      "Cell \u001b[0;32mIn[13], line 1\u001b[0m\n\u001b[0;32m----> 1\u001b[0m Mode\u001b[38;5;241m=\u001b[39mnp\u001b[38;5;241m.\u001b[39mmode(List)\n\u001b[1;32m      2\u001b[0m Mode\n",
      "File \u001b[0;32m~/anaconda3/lib/python3.12/site-packages/numpy/__init__.py:333\u001b[0m, in \u001b[0;36m__getattr__\u001b[0;34m(attr)\u001b[0m\n\u001b[1;32m    330\u001b[0m     \u001b[38;5;124m\"\u001b[39m\u001b[38;5;124mRemoved in NumPy 1.25.0\u001b[39m\u001b[38;5;124m\"\u001b[39m\n\u001b[1;32m    331\u001b[0m     \u001b[38;5;28;01mraise\u001b[39;00m \u001b[38;5;167;01mRuntimeError\u001b[39;00m(\u001b[38;5;124m\"\u001b[39m\u001b[38;5;124mTester was removed in NumPy 1.25.\u001b[39m\u001b[38;5;124m\"\u001b[39m)\n\u001b[0;32m--> 333\u001b[0m \u001b[38;5;28;01mraise\u001b[39;00m \u001b[38;5;167;01mAttributeError\u001b[39;00m(\u001b[38;5;124m\"\u001b[39m\u001b[38;5;124mmodule \u001b[39m\u001b[38;5;132;01m{!r}\u001b[39;00m\u001b[38;5;124m has no attribute \u001b[39m\u001b[38;5;124m\"\u001b[39m\n\u001b[1;32m    334\u001b[0m                      \u001b[38;5;124m\"\u001b[39m\u001b[38;5;132;01m{!r}\u001b[39;00m\u001b[38;5;124m\"\u001b[39m\u001b[38;5;241m.\u001b[39mformat(\u001b[38;5;18m__name__\u001b[39m, attr))\n",
      "\u001b[0;31mAttributeError\u001b[0m: module 'numpy' has no attribute 'mode'"
     ]
    }
   ],
   "source": [
    "Mode=np.mode(List)\n",
    "Mode"
   ]
  }
 ],
 "metadata": {
  "kernelspec": {
   "display_name": "Python 3 (ipykernel)",
   "language": "python",
   "name": "python3"
  },
  "language_info": {
   "codemirror_mode": {
    "name": "ipython",
    "version": 3
   },
   "file_extension": ".py",
   "mimetype": "text/x-python",
   "name": "python",
   "nbconvert_exporter": "python",
   "pygments_lexer": "ipython3",
   "version": "3.12.4"
  }
 },
 "nbformat": 4,
 "nbformat_minor": 5
}
